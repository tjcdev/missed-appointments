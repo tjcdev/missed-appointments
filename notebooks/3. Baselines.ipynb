{
 "cells": [
  {
   "cell_type": "markdown",
   "metadata": {},
   "source": [
    "# Baseline Models\n",
    "\n",
    "In this notebook we will train a number of classic classification models on our dataset.\n",
    "The models we will run will be\n",
    "- Logistic Regression\n",
    "- Stochastic Gradient Descent\n",
    "- Naive Bayes\n",
    "- Decision Trees\n",
    "- Random Forest"
   ]
  },
  {
   "cell_type": "code",
   "execution_count": 1,
   "metadata": {},
   "outputs": [],
   "source": [
    "import numpy as np\n",
    "import pandas as pd\n",
    "\n",
    "import matplotlib.pyplot as plt\n",
    "import seaborn as sns\n",
    "\n",
    "import random\n",
    "\n",
    "from sklearn.model_selection import train_test_split\n",
    "from sklearn.model_selection import StratifiedKFold\n",
    "from sklearn.metrics import confusion_matrix, precision_score, recall_score\n",
    "\n",
    "# Import Scipy Models\n",
    "from sklearn.linear_model import SGDClassifier\n",
    "from sklearn.neighbors import KNeighborsClassifier\n",
    "from sklearn.naive_bayes import GaussianNB\n",
    "from sklearn.tree import DecisionTreeClassifier\n",
    "from sklearn.ensemble import RandomForestClassifier\n",
    "from sklearn.linear_model import LogisticRegression\n",
    "\n",
    "from sklearn.svm import LinearSVC, SVC\n",
    "from sklearn.pipeline import make_pipeline\n",
    "from sklearn.preprocessing import StandardScaler"
   ]
  },
  {
   "cell_type": "markdown",
   "metadata": {},
   "source": [
    "## Train/Test Split"
   ]
  },
  {
   "cell_type": "markdown",
   "metadata": {},
   "source": [
    "First we will define our features that we chose based on findings in the exploratory analysis.\n",
    "The features we will use are:\n",
    "- Age\n",
    "- Booking Window Days\n",
    "- Hipertension\n",
    "- Scholarship\n",
    "- Diabetes\n",
    "- Handcap\n",
    "- SMS Received\n",
    "- Scheduled House\n",
    "- Appointment Day of Week\n",
    "- Percentage of previous no-shows for the patient (\"No-show_user_mean\")\n",
    "- Percentage of previous no-shows for the patients neighbourhood (\"No-show_neighbourhood_mean\")\n",
    "- Total number of previous no-shows for the patient (\"No-show_sum\")"
   ]
  },
  {
   "cell_type": "code",
   "execution_count": 2,
   "metadata": {},
   "outputs": [],
   "source": [
    "data = pd.read_csv('../data/clean_data.csv')\n",
    "\n",
    "_FEATURES = ['Age', 'booking_window_days', 'Hipertension', 'Scholarship', \n",
    "             'Diabetes', 'Handcap', 'SMS_received', 'ScheduledHour', \n",
    "             'AppointmentDayOfWeek']\n",
    "_TARGET = 'No-show'"
   ]
  },
  {
   "cell_type": "markdown",
   "metadata": {},
   "source": [
    "A number of the features can only be generated on the train_test split has taken place because they rely on a patients history. These features are:\n",
    "- Percentage of previous no-shows for the patient (\"No-show_user_mean\")\n",
    "- Percentage of previous no-shows for the patients neighbourhood (\"No-show_neighbourhood_mean\")\n",
    "- Total number of previous no-shows for the patient (\"No-show_sum\")\n",
    "\n",
    "Therefore we need to create these features within the train/test split method."
   ]
  },
  {
   "cell_type": "code",
   "execution_count": 3,
   "metadata": {},
   "outputs": [],
   "source": [
    "def train_test_add_features(data):\n",
    "    skf = StratifiedKFold(n_splits=2)\n",
    "\n",
    "    X = data[_FEATURES].values \n",
    "    y = data[_TARGET].values \n",
    "\n",
    "    for train_index, test_index in skf.split(X, y):\n",
    "        # Calculate the user history\n",
    "        train = data.iloc[train_index]\n",
    "        train = train.join(train.groupby('PatientId')['No-show'].agg(np.mean), on='PatientId', rsuffix='_user_mean')\n",
    "        train = train.join(train.groupby('Neighbourhood')['No-show'].agg(np.mean), on='Neighbourhood', rsuffix='_neighbourhood_mean')\n",
    "        train = train.join(train.groupby('PatientId')['No-show'].agg('sum'), on='PatientId', rsuffix='_sum')\n",
    "        #train = train.join(train.groupby('PatientId')['Age'].count(), on='PatientId', rsuffix='_count')\n",
    "        \n",
    "        test = data.iloc[test_index]\n",
    "        \n",
    "        test = pd.merge(test, train[['PatientId', 'No-show_user_mean']], on='PatientId', how='left') \n",
    "        test.at[test['No-show_user_mean'].isna(), 'No-show_user_mean'] = 1\n",
    "        \n",
    "        test = pd.merge(test, train[['PatientId', 'No-show_neighbourhood_mean']], on='PatientId', how='left') \n",
    "        test.at[test['No-show_neighbourhood_mean'].isna(), 'No-show_neighbourhood_mean'] = 1\n",
    "        \n",
    "        test = pd.merge(test, train[['PatientId', 'No-show_sum']], on='PatientId', how='left')\n",
    "        test.at[test['No-show_sum'].isna(), 'No-show_sum'] = 0\n",
    "        \n",
    "        #test = pd.merge(test, train[['PatientId', 'Age_count']], on='PatientId', how='left')\n",
    "        #test.at[test['Age_count'].isna(), 'Age_count'] = 0\n",
    "        \n",
    "        X_train = train[_FEATURES + ['No-show_user_mean', 'No-show_neighbourhood_mean']].values\n",
    "        y_train = train[_TARGET].values\n",
    "        \n",
    "        X_test = test[_FEATURES + ['No-show_user_mean', 'No-show_neighbourhood_mean']].values\n",
    "        y_test = test[_TARGET].values\n",
    "        \n",
    "        break\n",
    "\n",
    "    return X_train, X_test, y_train, y_test\n",
    "\n",
    "X_train, X_test, y_train, y_test = train_test_add_features(data)\n"
   ]
  },
  {
   "cell_type": "markdown",
   "metadata": {},
   "source": [
    "## Models"
   ]
  },
  {
   "cell_type": "markdown",
   "metadata": {},
   "source": [
    "We will now run through a number of models (with the default parameters) and judge their performance on the test set."
   ]
  },
  {
   "cell_type": "markdown",
   "metadata": {},
   "source": [
    "### Logistic Regression"
   ]
  },
  {
   "cell_type": "code",
   "execution_count": 4,
   "metadata": {},
   "outputs": [
    {
     "name": "stderr",
     "output_type": "stream",
     "text": [
      "/Users/thomascartwright/miniconda3/lib/python3.7/site-packages/sklearn/linear_model/logistic.py:432: FutureWarning: Default solver will be changed to 'lbfgs' in 0.22. Specify a solver to silence this warning.\n",
      "  FutureWarning)\n"
     ]
    },
    {
     "name": "stdout",
     "output_type": "stream",
     "text": [
      "0.9259842756882393\n",
      "Precision: 0.932359\n",
      "Recall: 0.925984\n"
     ]
    },
    {
     "data": {
      "image/png": "[encoded data removed]",
      "text/plain": [
       "<Figure size 432x288 with 2 Axes>"
      ]
     },
     "metadata": {
      "needs_background": "light"
     },
     "output_type": "display_data"
    }
   ],
   "source": [
    "lr = LogisticRegression(random_state=0, class_weight='balanced')\n",
    "lr.fit(X_train, y_train)\n",
    "print(lr.score(X_test, y_test))\n",
    "\n",
    "y_pred = lr.predict(X_test)\n",
    "precision = precision_score(y_test, y_pred, average='weighted')\n",
    "recall = recall_score(y_test, y_pred, average='weighted')\n",
    "print('Precision: %f' % (precision))\n",
    "print('Recall: %f' % (recall))\n",
    "\n",
    "df_cm = pd.DataFrame(confusion_matrix(y_test, y_pred), range(2), range(2))\n",
    "sns.heatmap(df_cm, annot=True, fmt='g') # font size\n",
    "plt.show()"
   ]
  },
  {
   "cell_type": "markdown",
   "metadata": {},
   "source": [
    "The logistic regression model is achieving a relatively high score, however the confusion matrix still shows us that the model is in general over guessing the false `No-show` class. This could be helped with hyperparameter optimsation."
   ]
  },
  {
   "cell_type": "markdown",
   "metadata": {},
   "source": [
    "### Stochastic Gradient Descent (SGD)"
   ]
  },
  {
   "cell_type": "code",
   "execution_count": 5,
   "metadata": {},
   "outputs": [
    {
     "name": "stderr",
     "output_type": "stream",
     "text": [
      "/Users/thomascartwright/miniconda3/lib/python3.7/site-packages/sklearn/linear_model/stochastic_gradient.py:561: ConvergenceWarning: Maximum number of iteration reached before convergence. Consider increasing max_iter to improve the fit.\n",
      "  ConvergenceWarning)\n"
     ]
    },
    {
     "name": "stdout",
     "output_type": "stream",
     "text": [
      "0.924648026165672\n",
      "Precision: 0.933524\n",
      "Recall: 0.924648\n"
     ]
    },
    {
     "data": {
      "image/png": "[encoded data removed]",
      "text/plain": [
       "<Figure size 432x288 with 2 Axes>"
      ]
     },
     "metadata": {
      "needs_background": "light"
     },
     "output_type": "display_data"
    }
   ],
   "source": [
    "sgd = SGDClassifier(loss=\"hinge\", penalty=\"l2\", max_iter=5, class_weight='balanced')\n",
    "sgd.fit(X_train, y_train)\n",
    "print(sgd.score(X_test, y_test))\n",
    "\n",
    "y_pred = sgd.predict(X_test)\n",
    "precision = precision_score(y_test, y_pred, average='weighted')\n",
    "recall = recall_score(y_test, y_pred, average='weighted')\n",
    "print('Precision: %f' % (precision))\n",
    "print('Recall: %f' % (recall))\n",
    "\n",
    "\n",
    "df_cm = pd.DataFrame(confusion_matrix(y_test, y_pred), range(2), range(2))\n",
    "sns.heatmap(df_cm, annot=True, fmt='g') # font size\n",
    "plt.show()"
   ]
  },
  {
   "cell_type": "markdown",
   "metadata": {},
   "source": [
    "This SGD model also performs relatively well however it also over guesses the false `No-show` class meaning the accuracy for predicting a true `No-show` is ~50%."
   ]
  },
  {
   "cell_type": "markdown",
   "metadata": {},
   "source": [
    "### Naive Bayes"
   ]
  },
  {
   "cell_type": "code",
   "execution_count": 6,
   "metadata": {},
   "outputs": [
    {
     "name": "stdout",
     "output_type": "stream",
     "text": [
      "0.9296501944238559\n",
      "Precision: 0.931542\n",
      "Recall: 0.929650\n"
     ]
    },
    {
     "data": {
      "image/png": "[encoded data removed]",
      "text/plain": [
       "<Figure size 432x288 with 2 Axes>"
      ]
     },
     "metadata": {
      "needs_background": "light"
     },
     "output_type": "display_data"
    }
   ],
   "source": [
    "naive = GaussianNB()\n",
    "naive.fit(X_train, y_train)\n",
    "print(naive.score(X_test, y_test))\n",
    "\n",
    "y_pred = naive.predict(X_test)\n",
    "precision = precision_score(y_test, y_pred, average='weighted')\n",
    "recall = recall_score(y_test, y_pred, average='weighted')\n",
    "print('Precision: %f' % (precision))\n",
    "print('Recall: %f' % (recall))\n",
    "\n",
    "\n",
    "df_cm = pd.DataFrame(confusion_matrix(y_test, y_pred), range(2), range(2))\n",
    "sns.heatmap(df_cm, annot=True, fmt='g') # font size\n",
    "plt.show()"
   ]
  },
  {
   "cell_type": "markdown",
   "metadata": {},
   "source": [
    "We can see from the confusion matrix here that the model is over guessing the false `No-show` class and achieves a score similar to the other models."
   ]
  },
  {
   "cell_type": "markdown",
   "metadata": {},
   "source": [
    "### Decision Trees"
   ]
  },
  {
   "cell_type": "code",
   "execution_count": 7,
   "metadata": {},
   "outputs": [
    {
     "name": "stdout",
     "output_type": "stream",
     "text": [
      "0.9042322286569321\n",
      "Precision: 0.928757\n",
      "Recall: 0.904232\n"
     ]
    },
    {
     "data": {
      "image/png": "[encoded data removed]",
      "text/plain": [
       "<Figure size 432x288 with 2 Axes>"
      ]
     },
     "metadata": {
      "needs_background": "light"
     },
     "output_type": "display_data"
    }
   ],
   "source": [
    "dt = DecisionTreeClassifier(random_state=0, class_weight='balanced')\n",
    "dt.fit(X_train, y_train)\n",
    "print(dt.score(X_test, y_test))\n",
    "\n",
    "y_pred = dt.predict(X_test)\n",
    "precision = precision_score(y_test, y_pred, average='weighted')\n",
    "recall = recall_score(y_test, y_pred, average='weighted')\n",
    "print('Precision: %f' % (precision))\n",
    "print('Recall: %f' % (recall))\n",
    "\n",
    "\n",
    "df_cm = pd.DataFrame(confusion_matrix(y_test, y_pred), range(2), range(2))\n",
    "sns.heatmap(df_cm, annot=True, fmt='g') # font size\n",
    "plt.show()"
   ]
  },
  {
   "cell_type": "markdown",
   "metadata": {},
   "source": [
    "This decision tree model performs slightly worse than the other baselines tried. We can also see that it is over predicting the false `No-show` class. This is likely due to outliers in the data."
   ]
  },
  {
   "cell_type": "markdown",
   "metadata": {},
   "source": [
    "### Random Forrest Classifier"
   ]
  },
  {
   "cell_type": "code",
   "execution_count": 8,
   "metadata": {},
   "outputs": [
    {
     "name": "stderr",
     "output_type": "stream",
     "text": [
      "/Users/thomascartwright/miniconda3/lib/python3.7/site-packages/sklearn/ensemble/forest.py:245: FutureWarning: The default value of n_estimators will change from 10 in version 0.20 to 100 in 0.22.\n",
      "  \"10 in version 0.20 to 100 in 0.22.\", FutureWarning)\n"
     ]
    },
    {
     "name": "stdout",
     "output_type": "stream",
     "text": [
      "0.9229329777794564\n",
      "Precision: 0.929450\n",
      "Recall: 0.922933\n"
     ]
    },
    {
     "data": {
      "image/png": "[encoded data removed]",
      "text/plain": [
       "<Figure size 432x288 with 2 Axes>"
      ]
     },
     "metadata": {
      "needs_background": "light"
     },
     "output_type": "display_data"
    }
   ],
   "source": [
    "rfc = RandomForestClassifier(n_jobs=2, random_state=0, class_weight='balanced')\n",
    "rfc.fit(X_train, y_train)\n",
    "print(rfc.score(X_test, y_test))\n",
    "\n",
    "y_pred = rfc.predict(X_test)\n",
    "precision = precision_score(y_test, y_pred, average='weighted')\n",
    "recall = recall_score(y_test, y_pred, average='weighted')\n",
    "print('Precision: %f' % (precision))\n",
    "print('Recall: %f' % (recall))\n",
    "\n",
    "\n",
    "df_cm = pd.DataFrame(confusion_matrix(y_test, y_pred), range(2), range(2))\n",
    "sns.heatmap(df_cm, annot=True, fmt='g') # font size\n",
    "plt.show()"
   ]
  },
  {
   "cell_type": "markdown",
   "metadata": {},
   "source": [
    "This random forest model performs slightly better than the decision tree. We can also see that it is over predicting the false `No-show` class. This is likely due to outliers in the data."
   ]
  },
  {
   "cell_type": "markdown",
   "metadata": {},
   "source": [
    "## Results"
   ]
  },
  {
   "cell_type": "markdown",
   "metadata": {},
   "source": [
    "Based on the above results we have decided to take the Logistic Regression and Stochastic Gradient Descent models further for hyperparameter tuning."
   ]
  },
  {
   "cell_type": "code",
   "execution_count": null,
   "metadata": {},
   "outputs": [],
   "source": []
  }
 ],
 "metadata": {
  "kernelspec": {
   "display_name": "Python 3",
   "language": "python",
   "name": "python3"
  },
  "language_info": {
   "codemirror_mode": {
    "name": "ipython",
    "version": 3
   },
   "file_extension": ".py",
   "mimetype": "text/x-python",
   "name": "python",
   "nbconvert_exporter": "python",
   "pygments_lexer": "ipython3",
   "version": "3.7.1"
  }
 },
 "nbformat": 4,
 "nbformat_minor": 2
}
