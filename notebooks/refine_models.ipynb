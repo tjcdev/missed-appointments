{
 "cells": [
  {
   "cell_type": "code",
   "execution_count": 1,
   "metadata": {},
   "outputs": [],
   "source": [
    "import numpy as np\n",
    "import pandas as pd\n",
    "\n",
    "import matplotlib.pyplot as plt\n",
    "import seaborn as sns\n",
    "\n",
    "from tqdm import tqdm\n",
    "\n",
    "from sklearn.model_selection import train_test_split\n",
    "from sklearn.model_selection import StratifiedKFold\n",
    "from sklearn.metrics import confusion_matrix, precision_score, recall_score\n",
    "\n",
    "# Import Scipy Models\n",
    "from sklearn.tree import DecisionTreeClassifier\n",
    "from sklearn.ensemble import RandomForestClassifier\n",
    "from sklearn.linear_model import LogisticRegression\n",
    "\n",
    "from sklearn.svm import LinearSVC, SVC\n",
    "from sklearn.pipeline import make_pipeline\n",
    "from sklearn.preprocessing import StandardScaler"
   ]
  },
  {
   "cell_type": "code",
   "execution_count": 2,
   "metadata": {},
   "outputs": [],
   "source": [
    "data = pd.read_csv('../data/clean_data.csv')\n",
    "\n",
    "_FEATURES = ['Age', 'booking_window_days', 'Hipertension', 'Scholarship', \n",
    "             'Diabetes', 'Handcap', 'SMS_received', 'ScheduledHour', \n",
    "             'AppointmentDayOfWeek']\n",
    "_TARGET = 'No-show'\n"
   ]
  },
  {
   "cell_type": "markdown",
   "metadata": {},
   "source": [
    "### Cross Validation"
   ]
  },
  {
   "cell_type": "code",
   "execution_count": 3,
   "metadata": {},
   "outputs": [],
   "source": [
    "def run_model(data, model):\n",
    "    skf = StratifiedKFold(n_splits=5)\n",
    "\n",
    "    X = data[_FEATURES].values \n",
    "    y = data[_TARGET].values \n",
    "\n",
    "    scores = np.array([])\n",
    "    cms = np.array([[0, 0], [0, 0]])\n",
    "\n",
    "    for train_index, test_index in skf.split(X, y):\n",
    "        # Calculate the user history\n",
    "        train = data.iloc[train_index]\n",
    "        train = train.join(train.groupby('PatientId')['No-show'].agg(np.mean), on='PatientId', rsuffix='_user_mean')\n",
    "        train = train.join(train.groupby('Neighbourhood')['No-show'].agg(np.mean), on='Neighbourhood', rsuffix='_neighbourhood_mean')\n",
    "        train = train.join(train.groupby('PatientId')['No-show'].agg('sum'), on='PatientId', rsuffix='_sum')\n",
    "        #train = train.join(train.groupby('PatientId')['Age'].count(), on='PatientId', rsuffix='_count')\n",
    "        \n",
    "        test = data.iloc[test_index]\n",
    "        \n",
    "        test = pd.merge(test, train[['PatientId', 'No-show_user_mean']], on='PatientId', how='left') \n",
    "        test.at[test['No-show_user_mean'].isna(), 'No-show_user_mean'] = 1\n",
    "        \n",
    "        test = pd.merge(test, train[['PatientId', 'No-show_neighbourhood_mean']], on='PatientId', how='left') \n",
    "        test.at[test['No-show_neighbourhood_mean'].isna(), 'No-show_neighbourhood_mean'] = 1\n",
    "        \n",
    "        test = pd.merge(test, train[['PatientId', 'No-show_sum']], on='PatientId', how='left')\n",
    "        test.at[test['No-show_sum'].isna(), 'No-show_sum'] = 0\n",
    "        \n",
    "        #test = pd.merge(test, train[['PatientId', 'Age_count']], on='PatientId', how='left')\n",
    "        #test.at[test['Age_count'].isna(), 'Age_count'] = 0\n",
    "        \n",
    "        X_train = train[_FEATURES + ['No-show_user_mean', 'No-show_neighbourhood_mean']].values\n",
    "        y_train = train[_TARGET].values\n",
    "        \n",
    "        X_test = test[_FEATURES + ['No-show_user_mean', 'No-show_neighbourhood_mean']].values\n",
    "        y_test = test[_TARGET].values\n",
    "        \n",
    "        #X_train, X_test = X[train_index], X[test_index]\n",
    "        #y_train, y_test = y[train_index], y[test_index]\n",
    "\n",
    "        model.fit(X_train, y_train)\n",
    "        scores = np.append(scores, model.score(X_test, y_test))\n",
    "\n",
    "        y_pred = model.predict(X_test)\n",
    "        \n",
    "        precision = precision_score(y_test, y_pred, average='weighted')\n",
    "        recall = recall_score(y_test, y_pred, average='weighted')\n",
    "        \n",
    "        cm = confusion_matrix(y_test, y_pred)\n",
    "        cms = np.add(cms, cm)\n",
    "    \n",
    "    return scores, cms, precision, recall\n"
   ]
  },
  {
   "cell_type": "markdown",
   "metadata": {},
   "source": [
    "# Logistic Regression"
   ]
  },
  {
   "cell_type": "code",
   "execution_count": null,
   "metadata": {},
   "outputs": [],
   "source": [
    "%%capture\n",
    "\n",
    "param_grid = {'C': [0.001, 0.01, 0.1]}\n",
    "\n",
    "lr_results = {}\n",
    "\n",
    "for C in param_grid['C']:\n",
    "    model = LogisticRegression(random_state=0, class_weight='balanced', C=C)\n",
    "    \n",
    "    scores, cms, precision, recall = run_model(data, model)\n",
    "    \n",
    "    lr_results[C] = (scores, cms, precision, recall)"
   ]
  },
  {
   "cell_type": "code",
   "execution_count": null,
   "metadata": {
    "scrolled": true
   },
   "outputs": [],
   "source": [
    "for C in lr_results.keys():\n",
    "    scores, cms, precision, recall = lr_results[C]\n",
    "    \n",
    "    print('Score: %f' % (np.mean(scores)))\n",
    "    print('Precision: %f' % (np.mean(precision)))\n",
    "    print('Recall: %f' % (np.mean(recall)))\n",
    "    \n",
    "    df_cm = pd.DataFrame(cms, range(2), range(2))\n",
    "    sns.heatmap(df_cm, annot=True, fmt='g') # font size\n",
    "    plt.show() "
   ]
  },
  {
   "cell_type": "markdown",
   "metadata": {},
   "source": [
    "# Decision Trees"
   ]
  },
  {
   "cell_type": "markdown",
   "metadata": {},
   "source": [
    "Hyperparameters:\n",
    "- min_impurity_split\n",
    "- max_depth\n",
    "- min_samples_leaf\n",
    "- max_features\n"
   ]
  },
  {
   "cell_type": "code",
   "execution_count": null,
   "metadata": {},
   "outputs": [],
   "source": [
    "%%capture\n",
    "\n",
    "param_grid = {'min_impurity_split': [0.1, 0.2, 0.3, 0.4],\n",
    "              'min_samples_leaf': [2, 5, 10, 20, 50, 100, 250]}\n",
    "\n",
    "dt_results = {}\n",
    "\n",
    "#for min_impurity_split in tqdm(param_grid['min_impurity_split']):\n",
    "#    for min_samples_leaf in param_grid['min_samples_leaf']:\n",
    "    \n",
    "model = DecisionTreeClassifier(random_state=0, \n",
    "                               class_weight='balanced', \n",
    "                               min_impurity_split=0.2,\n",
    "                               min_samples_leaf=2)\n",
    "\n",
    "scores, cms, precision, recall = run_model(data, model)\n",
    "\n",
    "dt_results[(0.2, 2)] = (scores, cms, precision, recall)"
   ]
  },
  {
   "cell_type": "code",
   "execution_count": null,
   "metadata": {
    "scrolled": true
   },
   "outputs": [],
   "source": [
    "#for min_impurity_split, min_samples_leaf in dt_results.keys():\n",
    "#    print(min_impurity_split, min_samples_leaf)\n",
    "\n",
    "scores, cms, precision, recall = dt_results[(0.2, 2)]\n",
    "\n",
    "print('Score: %f' % (np.mean(scores)))\n",
    "print('Precision: %f' % (np.mean(precision)))\n",
    "print('Recall: %f' % (np.mean(recall)))\n",
    "\n",
    "df_cm = pd.DataFrame(cms, range(2), range(2))\n",
    "sns.heatmap(df_cm, annot=True, fmt='g') # font size\n",
    "plt.show() "
   ]
  },
  {
   "cell_type": "markdown",
   "metadata": {},
   "source": [
    "# Random Foreset"
   ]
  },
  {
   "cell_type": "code",
   "execution_count": null,
   "metadata": {},
   "outputs": [],
   "source": [
    "%%capture\n",
    "\n",
    "param_grid = {'min_impurity_split': [0.1, 0.2, 0.3, 0.4],\n",
    "              'min_samples_leaf': [2, 5, 10, 20, 50, 100, 250]}\n",
    "\n",
    "dt_results = {}\n",
    "\n",
    "#for min_impurity_split in tqdm(param_grid['min_impurity_split']):\n",
    "#    for min_samples_leaf in param_grid['min_samples_leaf']:\n",
    "    \n",
    "model = RandomForestClassifier(n_jobs=2, \n",
    "                               random_state=0, \n",
    "                               class_weight='balanced',\n",
    "                               min_impurity_split=0.2,\n",
    "                               min_samples_leaf=2)\n",
    "\n",
    "scores, cms, precision, recall = run_model(data, model)\n",
    "\n",
    "dt_results[(0.2, 2)] = (scores, cms, precision, recall)"
   ]
  },
  {
   "cell_type": "code",
   "execution_count": null,
   "metadata": {
    "scrolled": true
   },
   "outputs": [],
   "source": [
    "#for min_impurity_split, min_samples_leaf in dt_results.keys():\n",
    "#    print(min_impurity_split, min_samples_leaf)\n",
    "scores, cms, precision, recall = dt_results[(0.2, 2)]\n",
    "\n",
    "print('Score: %f' % (np.mean(scores)))\n",
    "print('Precision: %f' % (np.mean(precision)))\n",
    "print('Recall: %f' % (np.mean(recall)))\n",
    "\n",
    "df_cm = pd.DataFrame(cms, range(2), range(2))\n",
    "sns.heatmap(df_cm, annot=True, fmt='g') # font size\n",
    "plt.show() "
   ]
  },
  {
   "cell_type": "code",
   "execution_count": null,
   "metadata": {},
   "outputs": [],
   "source": []
  },
  {
   "cell_type": "code",
   "execution_count": null,
   "metadata": {},
   "outputs": [],
   "source": []
  }
 ],
 "metadata": {
  "kernelspec": {
   "display_name": "Python 3",
   "language": "python",
   "name": "python3"
  },
  "language_info": {
   "codemirror_mode": {
    "name": "ipython",
    "version": 3
   },
   "file_extension": ".py",
   "mimetype": "text/x-python",
   "name": "python",
   "nbconvert_exporter": "python",
   "pygments_lexer": "ipython3",
   "version": "3.7.1"
  }
 },
 "nbformat": 4,
 "nbformat_minor": 2
}
