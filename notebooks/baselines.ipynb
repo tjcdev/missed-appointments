{
 "cells": [
  {
   "cell_type": "markdown",
   "metadata": {},
   "source": [
    "# Baseline Models\n",
    "\n",
    "Train some baseline models."
   ]
  },
  {
   "cell_type": "code",
   "execution_count": 1,
   "metadata": {},
   "outputs": [],
   "source": [
    "import numpy as np\n",
    "import pandas as pd\n",
    "\n",
    "import matplotlib.pyplot as plt\n",
    "import seaborn as sns\n",
    "\n",
    "import random\n",
    "\n",
    "from sklearn.model_selection import train_test_split\n",
    "from sklearn.metrics import confusion_matrix\n",
    "\n",
    "# Import Scipy Models\n",
    "from sklearn.linear_model import SGDClassifier\n",
    "from sklearn.neighbors import KNeighborsClassifier\n",
    "from sklearn.naive_bayes import GaussianNB\n",
    "from sklearn.tree import DecisionTreeClassifier\n",
    "from sklearn.ensemble import RandomForestClassifier\n",
    "from sklearn.linear_model import LogisticRegression\n",
    "\n",
    "from sklearn.svm import LinearSVC, SVC\n",
    "from sklearn.pipeline import make_pipeline\n",
    "from sklearn.preprocessing import StandardScaler"
   ]
  },
  {
   "cell_type": "markdown",
   "metadata": {},
   "source": [
    "## Train/Test Split"
   ]
  },
  {
   "cell_type": "code",
   "execution_count": 2,
   "metadata": {},
   "outputs": [],
   "source": [
    "data = pd.read_csv('../data/clean_data.csv')\n",
    "\n",
    "_FEATURES = ['Age', 'booking_window_days', 'Hipertension', 'Scholarship', \n",
    "             'Diabetes', 'Handcap', 'SMS_received', 'ScheduledHour', \n",
    "             'AppointmentDayOfWeek']\n",
    "_TARGET = 'No-show'"
   ]
  },
  {
   "cell_type": "code",
   "execution_count": 5,
   "metadata": {},
   "outputs": [
    {
     "name": "stdout",
     "output_type": "stream",
     "text": [
      "Done\n"
     ]
    }
   ],
   "source": [
    "def add_features(data, train_index, test_index):\n",
    "    # Calculate the user history\n",
    "    train = data.iloc[train_index]\n",
    "    train = train.join(train.groupby('PatientId')['No-show'].agg(np.mean), on='PatientId', rsuffix='_user_mean')\n",
    "    train = train.join(train.groupby('Neighbourhood')['No-show'].agg(np.mean), on='Neighbourhood', rsuffix='_neighbourhood_mean')\n",
    "    train = train.join(train.groupby('PatientId')['No-show'].agg('sum'), on='PatientId', rsuffix='_sum')\n",
    "    #train = train.join(train.groupby('PatientId')['Age'].count(), on='PatientId', rsuffix='_count')\n",
    "\n",
    "    test = data.iloc[test_index]\n",
    "\n",
    "    test = pd.merge(test, train[['PatientId', 'No-show_user_mean']], on='PatientId', how='left') \n",
    "    test.at[test['No-show_user_mean'].isna(), 'No-show_user_mean'] = 1\n",
    "\n",
    "    test = pd.merge(test, train[['PatientId', 'No-show_neighbourhood_mean']], on='PatientId', how='left') \n",
    "    test.at[test['No-show_neighbourhood_mean'].isna(), 'No-show_neighbourhood_mean'] = 1\n",
    "\n",
    "    test = pd.merge(test, train[['PatientId', 'No-show_sum']], on='PatientId', how='left')\n",
    "    test.at[test['No-show_sum'].isna(), 'No-show_sum'] = 0\n",
    "\n",
    "    #test = pd.merge(test, train[['PatientId', 'Age_count']], on='PatientId', how='left')\n",
    "    #test.at[test['Age_count'].isna(), 'Age_count'] = 0\n",
    "\n",
    "    X_train = train[_FEATURES + ['No-show_user_mean', 'No-show_neighbourhood_mean']].values\n",
    "    y_train = train[_TARGET].values\n",
    "\n",
    "    X_test = test[_FEATURES + ['No-show_user_mean', 'No-show_neighbourhood_mean']].values\n",
    "    y_test = test[_TARGET].values\n",
    "\n",
    "    #X_train, X_test = X[train_index], X[test_index]\n",
    "    #y_train, y_test = y[train_index], y[test_index]\n",
    "    \n",
    "    return X_train, X_test, y_train, y_test\n",
    "\n",
    "\n",
    "train_index = random.sample(range(0, data.shape[0]), int(data.shape[0] * 0.8))\n",
    "test_index = [i for i in range(0, data.shape[0]) if i not in train_index]\n",
    "print('Done')\n",
    "X_train, X_test, y_train, y_test = add_features(data, train_index, test_index)"
   ]
  },
  {
   "cell_type": "markdown",
   "metadata": {},
   "source": [
    "## Models"
   ]
  },
  {
   "cell_type": "markdown",
   "metadata": {},
   "source": [
    "### Logistic Regression"
   ]
  },
  {
   "cell_type": "code",
   "execution_count": 6,
   "metadata": {},
   "outputs": [
    {
     "name": "stderr",
     "output_type": "stream",
     "text": [
      "/Users/thomascartwright/miniconda3/lib/python3.7/site-packages/sklearn/linear_model/logistic.py:432: FutureWarning: Default solver will be changed to 'lbfgs' in 0.22. Specify a solver to silence this warning.\n",
      "  FutureWarning)\n"
     ]
    },
    {
     "name": "stdout",
     "output_type": "stream",
     "text": [
      "0.9537153017987591\n"
     ]
    },
    {
     "data": {
      "image/png": "[encoded data removed]",
      "text/plain": [
       "<Figure size 432x288 with 2 Axes>"
      ]
     },
     "metadata": {
      "needs_background": "light"
     },
     "output_type": "display_data"
    }
   ],
   "source": [
    "lr = LogisticRegression(random_state=0, class_weight='balanced')\n",
    "lr.fit(X_train, y_train)\n",
    "print(lr.score(X_test, y_test))\n",
    "\n",
    "df_cm = pd.DataFrame(confusion_matrix(y_test, lr.predict(X_test)), range(2), range(2))\n",
    "sns.heatmap(df_cm, annot=True, fmt='g') # font size\n",
    "plt.show()"
   ]
  },
  {
   "cell_type": "markdown",
   "metadata": {},
   "source": [
    "### Stochastic Gradient Descent (SGD)"
   ]
  },
  {
   "cell_type": "code",
   "execution_count": 7,
   "metadata": {},
   "outputs": [
    {
     "name": "stderr",
     "output_type": "stream",
     "text": [
      "/Users/thomascartwright/miniconda3/lib/python3.7/site-packages/sklearn/linear_model/stochastic_gradient.py:561: ConvergenceWarning: Maximum number of iteration reached before convergence. Consider increasing max_iter to improve the fit.\n",
      "  ConvergenceWarning)\n"
     ]
    },
    {
     "name": "stdout",
     "output_type": "stream",
     "text": [
      "0.9434037109822736\n"
     ]
    },
    {
     "data": {
      "image/png": "[encoded data removed]",
      "text/plain": [
       "<Figure size 432x288 with 2 Axes>"
      ]
     },
     "metadata": {
      "needs_background": "light"
     },
     "output_type": "display_data"
    }
   ],
   "source": [
    "sgd = SGDClassifier(loss=\"hinge\", penalty=\"l2\", max_iter=5, class_weight='balanced')\n",
    "sgd.fit(X_train, y_train)\n",
    "print(sgd.score(X_test, y_test))\n",
    "\n",
    "df_cm = pd.DataFrame(confusion_matrix(y_test, sgd.predict(X_test)), range(2), range(2))\n",
    "sns.heatmap(df_cm, annot=True, fmt='g') # font size\n",
    "plt.show()"
   ]
  },
  {
   "cell_type": "markdown",
   "metadata": {},
   "source": [
    "### K-Nearest Neighbours"
   ]
  },
  {
   "cell_type": "markdown",
   "metadata": {},
   "source": [
    "neigh = KNeighborsClassifier(n_neighbors=3)\n",
    "neigh.fit(X_train, y_train)\n",
    "print(neigh.score(X_test, y_test))\n",
    "\n",
    "df_cm = pd.DataFrame(confusion_matrix(y_test, neigh.predict(X_test)), range(2), range(2))\n",
    "sns.heatmap(df_cm, annot=True, fmt='g') # font size\n",
    "plt.show()"
   ]
  },
  {
   "cell_type": "markdown",
   "metadata": {},
   "source": [
    "This probably doesn't perform as well since of the high dimensionality."
   ]
  },
  {
   "cell_type": "markdown",
   "metadata": {},
   "source": [
    "### Naive Bayes"
   ]
  },
  {
   "cell_type": "code",
   "execution_count": 8,
   "metadata": {},
   "outputs": [
    {
     "name": "stdout",
     "output_type": "stream",
     "text": [
      "0.954825113651128\n"
     ]
    },
    {
     "data": {
      "image/png": "[encoded data removed]",
      "text/plain": [
       "<Figure size 432x288 with 2 Axes>"
      ]
     },
     "metadata": {
      "needs_background": "light"
     },
     "output_type": "display_data"
    }
   ],
   "source": [
    "naive = GaussianNB()\n",
    "naive.fit(X_train, y_train)\n",
    "print(naive.score(X_test, y_test))\n",
    "\n",
    "df_cm = pd.DataFrame(confusion_matrix(y_test, naive.predict(X_test)), range(2), range(2))\n",
    "sns.heatmap(df_cm, annot=True, fmt='g') # font size\n",
    "plt.show()"
   ]
  },
  {
   "cell_type": "markdown",
   "metadata": {},
   "source": [
    "### Decision Trees"
   ]
  },
  {
   "cell_type": "code",
   "execution_count": 9,
   "metadata": {},
   "outputs": [
    {
     "name": "stdout",
     "output_type": "stream",
     "text": [
      "0.9586409209363642\n"
     ]
    },
    {
     "data": {
      "image/png": "[encoded data removed]",
      "text/plain": [
       "<Figure size 432x288 with 2 Axes>"
      ]
     },
     "metadata": {
      "needs_background": "light"
     },
     "output_type": "display_data"
    }
   ],
   "source": [
    "dt = DecisionTreeClassifier(random_state=0, class_weight='balanced')\n",
    "dt.fit(X_train, y_train)\n",
    "print(dt.score(X_test, y_test))\n",
    "\n",
    "df_cm = pd.DataFrame(confusion_matrix(y_test, dt.predict(X_test)), range(2), range(2))\n",
    "sns.heatmap(df_cm, annot=True, fmt='g') # font size\n",
    "plt.show()"
   ]
  },
  {
   "cell_type": "markdown",
   "metadata": {},
   "source": [
    "### Random Forrest Classifier"
   ]
  },
  {
   "cell_type": "code",
   "execution_count": 10,
   "metadata": {},
   "outputs": [
    {
     "name": "stderr",
     "output_type": "stream",
     "text": [
      "/Users/thomascartwright/miniconda3/lib/python3.7/site-packages/sklearn/ensemble/forest.py:245: FutureWarning: The default value of n_estimators will change from 10 in version 0.20 to 100 in 0.22.\n",
      "  \"10 in version 0.20 to 100 in 0.22.\", FutureWarning)\n"
     ]
    },
    {
     "name": "stdout",
     "output_type": "stream",
     "text": [
      "0.953685575302928\n"
     ]
    },
    {
     "data": {
      "image/png": "[encoded data removed]",
      "text/plain": [
       "<Figure size 432x288 with 2 Axes>"
      ]
     },
     "metadata": {
      "needs_background": "light"
     },
     "output_type": "display_data"
    }
   ],
   "source": [
    "rfc = RandomForestClassifier(n_jobs=2, random_state=0, class_weight='balanced')\n",
    "rfc.fit(X_train, y_train)\n",
    "print(rfc.score(X_test, y_test))\n",
    "\n",
    "df_cm = pd.DataFrame(confusion_matrix(y_test, rfc.predict(X_test)), range(2), range(2))\n",
    "sns.heatmap(df_cm, annot=True, fmt='g') # font size\n",
    "plt.show()"
   ]
  },
  {
   "cell_type": "code",
   "execution_count": null,
   "metadata": {},
   "outputs": [],
   "source": []
  }
 ],
 "metadata": {
  "kernelspec": {
   "display_name": "Python 3",
   "language": "python",
   "name": "python3"
  },
  "language_info": {
   "codemirror_mode": {
    "name": "ipython",
    "version": 3
   },
   "file_extension": ".py",
   "mimetype": "text/x-python",
   "name": "python",
   "nbconvert_exporter": "python",
   "pygments_lexer": "ipython3",
   "version": "3.7.1"
  }
 },
 "nbformat": 4,
 "nbformat_minor": 2
}
