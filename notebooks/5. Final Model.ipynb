{
 "cells": [
  {
   "cell_type": "markdown",
   "metadata": {},
   "source": [
    "# Final Model"
   ]
  },
  {
   "cell_type": "markdown",
   "metadata": {},
   "source": [
    "Here we will review our final model and it's performance on the train and test data sets.\n",
    "\n",
    "The final model is a **Logistic Regression** with learning rate of **0.001**."
   ]
  },
  {
   "cell_type": "code",
   "execution_count": 1,
   "metadata": {},
   "outputs": [],
   "source": [
    "import numpy as np\n",
    "import pandas as pd\n",
    "\n",
    "import matplotlib.pyplot as plt\n",
    "import seaborn as sns\n",
    "\n",
    "import random\n",
    "\n",
    "from sklearn.model_selection import train_test_split\n",
    "from sklearn.model_selection import StratifiedKFold\n",
    "from sklearn.metrics import confusion_matrix, precision_score, recall_score\n",
    "\n",
    "# Import Scipy Models\n",
    "from sklearn.linear_model import SGDClassifier\n",
    "from sklearn.neighbors import KNeighborsClassifier\n",
    "from sklearn.naive_bayes import GaussianNB\n",
    "from sklearn.tree import DecisionTreeClassifier\n",
    "from sklearn.ensemble import RandomForestClassifier\n",
    "from sklearn.linear_model import LogisticRegression\n",
    "\n",
    "from sklearn.svm import LinearSVC, SVC\n",
    "from sklearn.pipeline import make_pipeline\n",
    "from sklearn.preprocessing import StandardScaler"
   ]
  },
  {
   "cell_type": "markdown",
   "metadata": {},
   "source": [
    "### Train/Test Split"
   ]
  },
  {
   "cell_type": "markdown",
   "metadata": {},
   "source": [
    "First we will define our features that we chose based on findings in the exploratory analysis.\n",
    "The features we will use are:\n",
    "- Age\n",
    "- Booking Window Days\n",
    "- Hipertension\n",
    "- Scholarship\n",
    "- Diabetes\n",
    "- Handcap\n",
    "- SMS Received\n",
    "- Scheduled House\n",
    "- Appointment Day of Week\n",
    "- Percentage of previous no-shows for the patient (\"No-show_user_mean\")\n",
    "- Percentage of previous no-shows for the patients neighbourhood (\"No-show_neighbourhood_mean\")"
   ]
  },
  {
   "cell_type": "code",
   "execution_count": 2,
   "metadata": {},
   "outputs": [],
   "source": [
    "data = pd.read_csv('../data/clean_data.csv')\n",
    "\n",
    "_FEATURES = ['Age', 'booking_window_days', 'Hipertension', 'Scholarship', \n",
    "             'Diabetes', 'Handcap', 'SMS_received', 'ScheduledHour', \n",
    "             'AppointmentDayOfWeek']\n",
    "_TARGET = 'No-show'"
   ]
  },
  {
   "cell_type": "code",
   "execution_count": 3,
   "metadata": {},
   "outputs": [],
   "source": [
    "def train_test_add_features(data):\n",
    "    skf = StratifiedKFold(n_splits=2)\n",
    "\n",
    "    X = data[_FEATURES].values \n",
    "    y = data[_TARGET].values \n",
    "\n",
    "    for train_index, test_index in skf.split(X, y):\n",
    "        # Calculate the user history\n",
    "        train = data.iloc[train_index]\n",
    "        train = train.join(train.groupby('PatientId')['No-show'].agg(np.mean), on='PatientId', rsuffix='_user_mean')\n",
    "        train = train.join(train.groupby('Neighbourhood')['No-show'].agg(np.mean), on='Neighbourhood', rsuffix='_neighbourhood_mean')\n",
    "        train = train.join(train.groupby('PatientId')['No-show'].agg('sum'), on='PatientId', rsuffix='_sum')\n",
    "        #train = train.join(train.groupby('PatientId')['Age'].count(), on='PatientId', rsuffix='_count')\n",
    "        \n",
    "        test = data.iloc[test_index]\n",
    "        \n",
    "        test = pd.merge(test, train[['PatientId', 'No-show_user_mean']], on='PatientId', how='left') \n",
    "        test.at[test['No-show_user_mean'].isna(), 'No-show_user_mean'] = 1\n",
    "        \n",
    "        test = pd.merge(test, train[['PatientId', 'No-show_neighbourhood_mean']], on='PatientId', how='left') \n",
    "        test.at[test['No-show_neighbourhood_mean'].isna(), 'No-show_neighbourhood_mean'] = 1\n",
    "        \n",
    "        test = pd.merge(test, train[['PatientId', 'No-show_sum']], on='PatientId', how='left')\n",
    "        test.at[test['No-show_sum'].isna(), 'No-show_sum'] = 0\n",
    "        \n",
    "        #test = pd.merge(test, train[['PatientId', 'Age_count']], on='PatientId', how='left')\n",
    "        #test.at[test['Age_count'].isna(), 'Age_count'] = 0\n",
    "        \n",
    "        X_train = train[_FEATURES + ['No-show_user_mean', 'No-show_neighbourhood_mean']].values\n",
    "        y_train = train[_TARGET].values\n",
    "        \n",
    "        X_test = test[_FEATURES + ['No-show_user_mean', 'No-show_neighbourhood_mean']].values\n",
    "        y_test = test[_TARGET].values\n",
    "        \n",
    "        break\n",
    "\n",
    "    return X_train, X_test, y_train, y_test\n",
    "\n",
    "X_train, X_test, y_train, y_test = train_test_add_features(data)\n"
   ]
  },
  {
   "cell_type": "markdown",
   "metadata": {},
   "source": [
    "### Model"
   ]
  },
  {
   "cell_type": "markdown",
   "metadata": {},
   "source": [
    "We will now train our model using the hyperparemters found to perform best on this dataset. We will then predict the patients appointment attendance."
   ]
  },
  {
   "cell_type": "code",
   "execution_count": 7,
   "metadata": {},
   "outputs": [
    {
     "name": "stderr",
     "output_type": "stream",
     "text": [
      "/Users/thomascartwright/miniconda3/lib/python3.7/site-packages/sklearn/linear_model/logistic.py:432: FutureWarning: Default solver will be changed to 'lbfgs' in 0.22. Specify a solver to silence this warning.\n",
      "  FutureWarning)\n"
     ]
    },
    {
     "name": "stdout",
     "output_type": "stream",
     "text": [
      "Score: 0.926952\n",
      "Precision: 0.931139\n",
      "Recall: 0.926952\n"
     ]
    }
   ],
   "source": [
    "model = LogisticRegression(random_state=0, class_weight='balanced', C=0.001)\n",
    "model.fit(X_train, y_train)\n",
    "print('Score: %f' % (model.score(X_test, y_test)))\n",
    "\n",
    "y_pred = model.predict(X_test)\n",
    "precision = precision_score(y_test, y_pred, average='weighted')\n",
    "recall = recall_score(y_test, y_pred, average='weighted')\n",
    "\n",
    "print('Precision: %f' % (precision))\n",
    "print('Recall: %f' % (recall))\n"
   ]
  },
  {
   "cell_type": "markdown",
   "metadata": {},
   "source": [
    "### Evaluation"
   ]
  },
  {
   "cell_type": "code",
   "execution_count": 8,
   "metadata": {},
   "outputs": [
    {
     "data": {
      "image/png": "[encoded data removed]",
      "text/plain": [
       "<Figure size 432x288 with 2 Axes>"
      ]
     },
     "metadata": {
      "needs_background": "light"
     },
     "output_type": "display_data"
    }
   ],
   "source": [
    "df_cm = pd.DataFrame(confusion_matrix(y_test, y_pred), range(2), range(2))\n",
    "sns.heatmap(df_cm, annot=True, fmt='g') # font size\n",
    "plt.show()"
   ]
  },
  {
   "cell_type": "markdown",
   "metadata": {},
   "source": [
    "# Final Result"
   ]
  },
  {
   "cell_type": "markdown",
   "metadata": {},
   "source": [
    "And so our final model acheived the following results.\n",
    "- Precision: **0.93**\n",
    "- Recall: **0.93**"
   ]
  },
  {
   "cell_type": "code",
   "execution_count": null,
   "metadata": {},
   "outputs": [],
   "source": []
  }
 ],
 "metadata": {
  "kernelspec": {
   "display_name": "Python 3",
   "language": "python",
   "name": "python3"
  },
  "language_info": {
   "codemirror_mode": {
    "name": "ipython",
    "version": 3
   },
   "file_extension": ".py",
   "mimetype": "text/x-python",
   "name": "python",
   "nbconvert_exporter": "python",
   "pygments_lexer": "ipython3",
   "version": "3.7.1"
  }
 },
 "nbformat": 4,
 "nbformat_minor": 2
}
